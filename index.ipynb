{
 "cells": [
  {
   "cell_type": "code",
   "execution_count": 7,
   "metadata": {},
   "outputs": [],
   "source": [
    "from ml_pipeline_tool.pipeline_builder import MachineLearningPipeline\n",
    "from ml_pipeline_tool.main import validate_input_file"
   ]
  },
  {
   "cell_type": "code",
   "execution_count": 8,
   "metadata": {},
   "outputs": [
    {
     "name": "stdout",
     "output_type": "stream",
     "text": [
      "Using algorithm class: <class 'sklearn.ensemble._forest.RandomForestClassifier'>\n",
      "{'accuracy': 1.0, 'auc': np.float64(1.0), 'cross_val_mean': np.float64(0.9416666666666667), 'cross_val_std': np.float64(0.05651941652604389)}\n"
     ]
    }
   ],
   "source": [
    "# Test case 1 - iris dataset\n",
    "# load from Iris.csv\n",
    "X = validate_input_file(\"./dataset/Iris.csv\")\n",
    "y = X.pop(\"Species\")\n",
    "X = X.drop(columns=[\"Id\"])\n",
    "\n",
    "# Create pipeline\n",
    "pipeline = MachineLearningPipeline(\n",
    "    problem_type=\"classification\", algorithm=\"random_forest\"\n",
    ")\n",
    "\n",
    "# Train and evaluate\n",
    "results = pipeline.train_and_evaluate(X, y)\n",
    "print(results)"
   ]
  },
  {
   "cell_type": "code",
   "execution_count": 9,
   "metadata": {},
   "outputs": [
    {
     "name": "stdout",
     "output_type": "stream",
     "text": [
      "Using algorithm class: <class 'sklearn.ensemble._forest.RandomForestRegressor'>\n",
      "{'mae': np.float64(1002633.909174312), 'mse': np.float64(1902006941408.4521), 'cross_val_mean': np.float64(0.5947652882681677), 'cross_val_std': np.float64(0.03672002489582376)}\n"
     ]
    }
   ],
   "source": [
    "# Test case 2 - House Prices dataset\n",
    "# load from house_prices.csv\n",
    "X = validate_input_file(\"./dataset/Housing.csv\")\n",
    "y = X.pop(\"price\")\n",
    "\n",
    "# Create pipeline\n",
    "pipeline = MachineLearningPipeline(\n",
    "    problem_type=\"regression\", algorithm=\"random_forest\"\n",
    ")\n",
    "\n",
    "# Train and evaluate\n",
    "results = pipeline.train_and_evaluate(X, y)\n",
    "print(results)"
   ]
  }
 ],
 "metadata": {
  "kernelspec": {
   "display_name": ".venv",
   "language": "python",
   "name": "python3"
  },
  "language_info": {
   "codemirror_mode": {
    "name": "ipython",
    "version": 3
   },
   "file_extension": ".py",
   "mimetype": "text/x-python",
   "name": "python",
   "nbconvert_exporter": "python",
   "pygments_lexer": "ipython3",
   "version": "3.10.11"
  }
 },
 "nbformat": 4,
 "nbformat_minor": 2
}
