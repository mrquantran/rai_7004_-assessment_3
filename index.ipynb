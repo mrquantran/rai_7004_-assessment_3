{
 "cells": [
  {
   "cell_type": "code",
   "execution_count": 1,
   "metadata": {},
   "outputs": [],
   "source": [
    "from ml_pipeline_tool.pipeline_builder import MachineLearningPipeline\n",
    "from ml_pipeline_tool.main import validate_input_file"
   ]
  },
  {
   "cell_type": "code",
   "execution_count": 2,
   "metadata": {},
   "outputs": [
    {
     "name": "stdout",
     "output_type": "stream",
     "text": [
      "Using algorithm class: <class 'sklearn.ensemble._forest.RandomForestClassifier'>\n",
      "{'accuracy': 1.0, 'auc': 1.0, 'cross_val_mean': 0.9583333333333334, 'cross_val_std': 0.045643546458763846}\n"
     ]
    }
   ],
   "source": [
    "# Test case 1 - iris dataset\n",
    "# load from Iris.csv\n",
    "X = validate_input_file(\"./dataset/Iris.csv\")\n",
    "y = X.pop(\"Species\")\n",
    "X = X.drop(columns=[\"Id\"])\n",
    "\n",
    "# Create pipeline\n",
    "pipeline = MachineLearningPipeline(\n",
    "    problem_type=\"classification\", algorithm=\"random_forest\"\n",
    ")\n",
    "\n",
    "# Train and evaluate\n",
    "results = pipeline.train_and_evaluate(X, y)\n",
    "print(results)"
   ]
  },
  {
   "cell_type": "code",
   "execution_count": 3,
   "metadata": {},
   "outputs": [
    {
     "name": "stdout",
     "output_type": "stream",
     "text": [
      "Using algorithm class: <class 'sklearn.ensemble._forest.RandomForestRegressor'>\n",
      "{'mae': 1012917.5920489297, 'mse': 1952833770321.429, 'cross_val_mean': 0.5923840156007991, 'cross_val_std': 0.03779390566753503}\n"
     ]
    }
   ],
   "source": [
    "# Test case 2 - House Prices dataset\n",
    "# load from house_prices.csv\n",
    "X = validate_input_file(\"./dataset/Housing.csv\")\n",
    "y = X.pop(\"price\")\n",
    "\n",
    "# Create pipeline\n",
    "pipeline = MachineLearningPipeline(\n",
    "    problem_type=\"regression\", algorithm=\"random_forest\"\n",
    ")\n",
    "\n",
    "# Train and evaluate\n",
    "results = pipeline.train_and_evaluate(X, y)\n",
    "print(results)"
   ]
  },
  {
   "cell_type": "code",
   "execution_count": 4,
   "metadata": {},
   "outputs": [
    {
     "name": "stdout",
     "output_type": "stream",
     "text": [
      "Using algorithm class: <class 'sklearn.linear_model._base.LinearRegression'>\n",
      "{'mae': 970043.4039201648, 'mse': 1754318687330.6694, 'cross_val_mean': 0.6470401792343204, 'cross_val_std': 0.036657627154168426}\n"
     ]
    }
   ],
   "source": [
    "# Test case 2 - House Prices dataset\n",
    "# load from house_prices.csv\n",
    "X = validate_input_file(\"./dataset/Housing.csv\")\n",
    "y = X.pop(\"price\")\n",
    "\n",
    "# Create pipeline\n",
    "pipeline = MachineLearningPipeline(\n",
    "    problem_type=\"regression\", algorithm=\"linear_regression\"\n",
    ")\n",
    "\n",
    "# Train and evaluate\n",
    "results = pipeline.train_and_evaluate(X, y)\n",
    "print(results)"
   ]
  },
  {
   "cell_type": "code",
   "execution_count": 5,
   "metadata": {},
   "outputs": [
    {
     "name": "stdout",
     "output_type": "stream",
     "text": [
      "Using algorithm class: <class 'sklearn.svm._classes.SVC'>\n",
      "{'accuracy': 1.0, 'cross_val_mean': 0.95, 'cross_val_std': 0.06123724356957944}\n"
     ]
    }
   ],
   "source": [
    "# Test case 1 - iris dataset\n",
    "# load from Iris.csv\n",
    "X = validate_input_file(\"./dataset/Iris.csv\")\n",
    "y = X.pop(\"Species\")\n",
    "X = X.drop(columns=[\"Id\"])\n",
    "\n",
    "# Create pipeline\n",
    "pipeline = MachineLearningPipeline(\n",
    "    problem_type=\"classification\", algorithm=\"svm\"\n",
    ")\n",
    "\n",
    "# Train and evaluate\n",
    "results = pipeline.train_and_evaluate(X, y)\n",
    "print(results)"
   ]
  }
 ],
 "metadata": {
  "kernelspec": {
   "display_name": ".venv",
   "language": "python",
   "name": "python3"
  },
  "language_info": {
   "codemirror_mode": {
    "name": "ipython",
    "version": 3
   },
   "file_extension": ".py",
   "mimetype": "text/x-python",
   "name": "python",
   "nbconvert_exporter": "python",
   "pygments_lexer": "ipython3",
   "version": "3.10.11"
  }
 },
 "nbformat": 4,
 "nbformat_minor": 2
}
